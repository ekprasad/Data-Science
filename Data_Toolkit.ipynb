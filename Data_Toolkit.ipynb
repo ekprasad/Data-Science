{
  "nbformat": 4,
  "nbformat_minor": 0,
  "metadata": {
    "colab": {
      "provenance": []
    },
    "kernelspec": {
      "name": "python3",
      "display_name": "Python 3"
    },
    "language_info": {
      "name": "python"
    }
  },
  "cells": [
    {
      "cell_type": "markdown",
      "source": [
        "# DATA TOOLKIT ASSIGNMENT"
      ],
      "metadata": {
        "id": "WyHnw2WkGKRQ"
      }
    },
    {
      "cell_type": "markdown",
      "source": [
        "# Theory Questions"
      ],
      "metadata": {
        "id": "Cm7dCT7lNxn5"
      }
    },
    {
      "cell_type": "markdown",
      "source": [
        "**1)  What is NumPy, and why is it widely used in Python?**\n",
        "\n",
        "-> NumPy (Numerical Python) is a Python library used for numerical computations. It provides support for large, multi-dimensional arrays and matrices, along with a collection of mathematical functions to operate on them efficiently. It is widely used because it:\n",
        "* Offers fast and efficient array manipulation.\n",
        "* Provides tools for mathematical operations like linear algebra, Fourier transforms, and random number generation.\n",
        "* Acts as a foundation for other libraries like Pandas, SciPy, and TensorFlow."
      ],
      "metadata": {
        "id": "1yCL1KtON8BB"
      }
    },
    {
      "cell_type": "markdown",
      "source": [
        "**2) How does broadcasting work in NumPy?**\n",
        "\n",
        "-> Broadcasting allows NumPy to perform element-wise operations on arrays of different shapes without explicitly replicating the smaller array. The rules of broadcasting involve:\n",
        "* Aligning arrays starting from the trailing dimensions.\n",
        "* Ensuring that dimensions are either equal or one of them is 1.\n",
        "\n",
        "Example:\n",
        "\n",
        "    a = np.array([1, 2, 3])\n",
        "    b = np.array([[1], [2], [3]])\n",
        "    result = a + b  # Shape (3,) + (3,1) results in a (3,3) array."
      ],
      "metadata": {
        "id": "vCbtTFMzOdTL"
      }
    },
    {
      "cell_type": "markdown",
      "source": [
        "**3) What is a Pandas DataFrame?**\n",
        "\n",
        "-> A DataFrame is a two-dimensional, mutable, tabular data structure in Pandas with labeled axes (rows and columns). It is similar to a spreadsheet or SQL table and is used for data analysis and manipulation."
      ],
      "metadata": {
        "id": "N25wUANSO7c-"
      }
    },
    {
      "cell_type": "markdown",
      "source": [
        "**4) Explain the use of the groupby() method in Pandas.**\n",
        "\n",
        "-> The groupby() method is used to group data based on one or more keys and then apply aggregate functions or transformations on these groups.\n",
        "\n",
        "Example:\n",
        "\n",
        "    df.groupby('category')['value'].sum()"
      ],
      "metadata": {
        "id": "RivCTOhtPOrd"
      }
    },
    {
      "cell_type": "markdown",
      "source": [
        "**5)  Why is Seaborn preferred for statistical visualizations?**\n",
        "\n",
        "-> Seaborn simplifies the creation of complex statistical plots with better aesthetics and built-in support for statistical analysis. It integrates seamlessly with Pandas and includes advanced visualizations like violin plots, heatmaps, and pairplots."
      ],
      "metadata": {
        "id": "s0ltHOx3Pm8D"
      }
    },
    {
      "cell_type": "markdown",
      "source": [
        "**6)  What are the differences between NumPy arrays and Python lists?**\n",
        "\n",
        "-> Python lists are general-purpose and flexible, while NumPy arrays are optimized for numerical and scientific computing.\n",
        "\n",
        "1. **Python lists :**\n",
        "* Can store mixed data types.\n",
        "* Slower, not optimized for numerical computations.\n",
        "* Limited support for mathematical operations.\n",
        "* One-dimensional (nested lists for multi-dimensions).\n",
        "* More memory-intensive.\n",
        "\n",
        "2. **NumPy arrays :**\n",
        "* Require elements to have the same data type.\n",
        "* Faster, designed for efficient numerical operations.\n",
        "* Extensive support for vectorized operations and advanced math.\n",
        "* Built-in support for multi-dimensional arrays.\n",
        "* Memory-efficient due to contiguous storage."
      ],
      "metadata": {
        "id": "VU7G8XeBZmXp"
      }
    },
    {
      "cell_type": "markdown",
      "source": [
        "**7) What is a heatmap, and when should it be used?**\n",
        "\n",
        "-> A heatmap is a graphical representation of data where individual values are represented as colors. It is commonly used to visualize correlations, matrix data, or density distributions."
      ],
      "metadata": {
        "id": "wTxLYcNoP21F"
      }
    },
    {
      "cell_type": "markdown",
      "source": [
        "**8)  What does the term “vectorized operation” mean in NumPy?**\n",
        "\n",
        "-> Vectorized operations allow performing element-wise operations on entire arrays without explicit loops, making computations faster and more efficient.\n",
        "\n",
        "Example:\n",
        "\n",
        "    a = np.array([1, 2, 3])\n",
        "    b = a * 2  # Vectorized multiplication"
      ],
      "metadata": {
        "id": "nfsbeL1hQOOb"
      }
    },
    {
      "cell_type": "markdown",
      "source": [
        "**9) How does Matplotlib differ from Plotly?**\n",
        "\n",
        "-> Matplotlib and Plotly are both powerful libraries for creating visualizations in Python, but they differ significantly in terms of functionality, usability, and design philosophy.\n",
        "\n",
        "**Matplotlib**  \n",
        "* Static: Creates high-quality static plots.  \n",
        "* Customizable: Highly flexible for detailed control.  \n",
        "* Less Interactive: Basic interactivity with extensions.  \n",
        "* Output: Ideal for publications and scripts.  \n",
        "\n",
        "**Plotly**  \n",
        "* Interactive: Fully interactive, modern visuals by default.  \n",
        "* User-Friendly: Intuitive for creating polished, web-ready plots.  \n",
        "* Dynamic: Excellent for dashboards and data exploration.  \n",
        "* Output: Ideal for web apps and presentations.  "
      ],
      "metadata": {
        "id": "zKzCkIBMQtMP"
      }
    },
    {
      "cell_type": "markdown",
      "source": [
        "**10) What is the significance of hierarchical indexing in Pandas?**\n",
        "\n",
        "-> Hierarchical indexing allows multi-level indexing for organizing and working with data in a nested way. It simplifies data aggregation and reshaping."
      ],
      "metadata": {
        "id": "tQ1MCtv7RlkB"
      }
    },
    {
      "cell_type": "markdown",
      "source": [
        "**11) What is the role of Seaborn's pairplot() function?**\n",
        "\n",
        "-> The pairplot() function creates pairwise scatterplots for all numerical columns in a dataset, showing relationships and distributions."
      ],
      "metadata": {
        "id": "xTPTp656SCmc"
      }
    },
    {
      "cell_type": "markdown",
      "source": [
        "**12) What is the purpose of the describe() function in Pandas?**\n",
        "\n",
        "-> The describe() function provides a summary of statistical metrics (like mean, median, min, max, and quartiles) for numerical columns in a DataFrame."
      ],
      "metadata": {
        "id": "f9lnn5LDSSa-"
      }
    },
    {
      "cell_type": "markdown",
      "source": [
        "**13) Why is handling missing data important in Pandas?**\n",
        "\n",
        "-> Missing data can distort analyses and lead to incorrect conclusions. Pandas provides methods to fill, drop, or interpolate missing data, ensuring data integrity."
      ],
      "metadata": {
        "id": "wvDdvaVIScea"
      }
    },
    {
      "cell_type": "markdown",
      "source": [
        "**14)What are the benefits of using Plotly for data visualization?**\n",
        "\n",
        "-> Using Plotly for data visualization offers several benefits:  \n",
        "\n",
        "**1. Interactivity**\n",
        "* Interactive plots by default (e.g., zoom, pan, hover tooltips).\n",
        "*  Enables dynamic data exploration.\n",
        "\n",
        "**2. Ease of Use**\n",
        "* Simple and intuitive syntax.\n",
        "* Predefined templates for quick visualizations.\n",
        "\n",
        "**3. Wide Range of Chart Types**\n",
        "* Supports a variety of charts (scatter, bar, pie, heatmaps, 3D plots, etc.).\n",
        "* Specialized visualizations like geographic maps and network graphs.\n",
        "\n",
        "**4. High-Quality Visuals**\n",
        "* Polished, publication-quality visuals with minimal effort.\n",
        "* Built-in themes for consistent styling.\n",
        "\n",
        "**5. Integration**\n",
        "* Compatible with web frameworks (Dash, Flask).\n",
        "* Export to HTML for sharing or embedding in web applications.\n",
        "\n",
        "**6. Cross-Platform Support**\n",
        "* Works in Jupyter Notebooks, standalone Python scripts, or web apps.\n",
        "* Outputs can be saved as static images or interactive HTML files.\n",
        "\n",
        "**7. Customization**\n",
        "* Highly customizable, from colors and styles to advanced layouts.\n",
        "* Supports annotations, multiple axes, and subplots.\n",
        "\n",
        "**8. Real-Time Data**\n",
        "* Integrates easily with live data streams for real-time visualizations.\n",
        "\n",
        "**9. Community and Documentation**\n",
        "* Active community and extensive documentation for support."
      ],
      "metadata": {
        "id": "LWEK_0MFSqzk"
      }
    },
    {
      "cell_type": "markdown",
      "source": [
        "**15)  How does NumPy handle multidimensional arrays?**\n",
        "\n",
        "-> NumPy efficiently manages n-dimensional arrays (ndarrays) with methods for reshaping, slicing, and broadcasting to manipulate dimensions flexibly."
      ],
      "metadata": {
        "id": "Wmksc0kBTmZc"
      }
    },
    {
      "cell_type": "markdown",
      "source": [
        "**16) What is the role of Bokeh in data visualization?**\n",
        "\n",
        "-> Bokeh specializes in creating interactive and web-based visualizations with real-time updates and dashboards."
      ],
      "metadata": {
        "id": "596M5H4uTeBE"
      }
    },
    {
      "cell_type": "markdown",
      "source": [
        "**17) Explain the difference between apply() and map() in Pandas?**\n",
        "\n",
        "-> Difference Between `apply()` and `map()` in Pandas:\n",
        "\n",
        "**`map()`**\n",
        "* works only on Series.\n",
        "* applies functions element-wise to a Series.\n",
        "* accepts functions, dictionaries, or Series.\n",
        "* returns a transformed Series.\n",
        "    example - map(): s.map(lambda x: x * 2)\n",
        "\n",
        "**`apply()`**\n",
        "* works on both Series and DataFrame.\n",
        "* can apply functions element-wise or row/column-wise in a DataFrame.\n",
        "* accepts any callable function, including custom logic.\n",
        "* returns either a Series or a DataFrame, depending on the input.\n",
        "    example - apply(): df.apply(lambda row: row.sum(), axis=1)"
      ],
      "metadata": {
        "id": "Xdw3d52zUZC9"
      }
    },
    {
      "cell_type": "markdown",
      "source": [
        "**18)  What are some advanced features of NumPy?**\n",
        "\n",
        "-> Few Advance featuresthat make NumPy powerful for numerical and scientific computing:\n",
        "1. **Broadcasting**: Perform operations on arrays of different shapes without explicit loops.  \n",
        "\n",
        "2. **Vectorized Operations**: Fast, element-wise operations on entire arrays.  \n",
        "\n",
        "3. **Advanced Indexing**: Access data using conditions, boolean, or integer arrays.  \n",
        "\n",
        "4. **Structured Arrays**: Handle heterogeneous, table-like data.  \n",
        "\n",
        "5. **Linear Algebra**: Matrix operations, eigenvalues, and inverses.  \n",
        "\n",
        "6. **Random Number Generation**: Generate random samples from various distributions.  \n",
        "\n",
        "7. **FFT**: Fast Fourier Transform for signal processing.  \n",
        "\n",
        "8. **Memory Efficiency**: Use views to avoid copying arrays.  \n",
        "\n",
        "9. **Universal Functions**: Apply functions (e.g., `sin`, `exp`) on entire arrays.  \n",
        "\n",
        "10. **Masked Arrays**: Handle missing or invalid data.  "
      ],
      "metadata": {
        "id": "PQBFj9DaWLDL"
      }
    },
    {
      "cell_type": "markdown",
      "source": [
        "**19) How does Pandas simplify time series analysis?**\n",
        "\n",
        "-> Pandas simplifies handling, analyzing, and visualizing time series data with its efficient and intuitive methods.\n",
        "1. **Datetime Handling**: Easy conversion and manipulation of dates with `pd.to_datetime`.\n",
        "2. **Time-based Indexing**: Intuitive slicing/filtering by dates (e.g., year, month, day).\n",
        "3. **Resampling**: Aggregate data to different frequencies (e.g., daily to monthly).\n",
        "4. **Missing Data**: Fill or interpolate missing time points effortlessly.\n",
        "5. **Rolling Windows**: Compute moving averages or rolling statistics with `rolling()`.\n",
        "6. **Time Zones**: Support for time zone conversions.\n",
        "7. **Shift and Lag**: Analyze lagged data with `shift()`.\n",
        "8. **Visualization**: Quick time series plots with built-in tools."
      ],
      "metadata": {
        "id": "LfSeF5o1UE3Q"
      }
    },
    {
      "cell_type": "markdown",
      "source": [
        "**20)  What is the role of a pivot table in Pandas?**\n",
        "\n",
        "-> A pivot table summarizes data, rearranging and aggregating it based on specified indices and columns."
      ],
      "metadata": {
        "id": "UEm7HtAoe_DK"
      }
    },
    {
      "cell_type": "markdown",
      "source": [
        "**21) Why is NumPy's array slicing faster than Python's list slicing?**\n",
        "\n",
        "-> NumPy uses a memory-efficient view for slicing, avoiding data duplication, whereas Python lists copy data during slicing."
      ],
      "metadata": {
        "id": "Ur2-8iRgfM1K"
      }
    },
    {
      "cell_type": "markdown",
      "source": [
        "**22) What are some common use cases for Seaborn?**\n",
        "\n",
        "-> Some common use cases for Seaborn:\n",
        "* Visualizing relationships (scatterplots, line plots).\n",
        "* Statistical analysis (box plots, violin plots).\n",
        "* Heatmaps for correlation matrices.\n",
        "* Pairwise visualizations with pairplot()."
      ],
      "metadata": {
        "id": "kCbMqSzifZjw"
      }
    },
    {
      "cell_type": "markdown",
      "source": [
        "# Practical Questions."
      ],
      "metadata": {
        "id": "-J1wYpaU4Ikh"
      }
    },
    {
      "cell_type": "code",
      "source": [
        "#1 How do you create a 2D NumPy array and calculate the sum of each row.\n",
        "\n",
        "import numpy as np\n",
        "\n",
        "# Create a 2D array\n",
        "array = np.array([[1, 2, 3], [4, 5, 6], [7, 8, 9]])\n",
        "\n",
        "# Calculate the sum of each row\n",
        "row_sums = np.sum(array, axis=1)\n",
        "print(\"Sum of each rows of the Array:\", row_sums)"
      ],
      "metadata": {
        "colab": {
          "base_uri": "https://localhost:8080/"
        },
        "id": "mFyDNg_Z4ldX",
        "outputId": "0ccab107-123e-485d-beae-e79ce20496be"
      },
      "execution_count": 19,
      "outputs": [
        {
          "output_type": "stream",
          "name": "stdout",
          "text": [
            "Sum of each rows of the Array: [ 6 15 24]\n"
          ]
        }
      ]
    },
    {
      "cell_type": "code",
      "source": [
        "#2 Write a Pandas script to find the mean of a specific column in a DataFrame.\n",
        "\n",
        "import pandas as pd\n",
        "\n",
        "# Create a DataFrame\n",
        "data = {'Name': ['Ekta', 'Vishal', 'Nishi'], 'Age': [25, 30, 35], 'Salary': [50000, 60000, 70000]}\n",
        "df = pd.DataFrame(data)\n",
        "\n",
        "# Find the mean of the 'Salary' column\n",
        "mean_salary = df['Salary'].mean()\n",
        "print(\"Mean salary:\", mean_salary)"
      ],
      "metadata": {
        "colab": {
          "base_uri": "https://localhost:8080/"
        },
        "id": "9OnjZH_Y5gfs",
        "outputId": "256747eb-bd46-4633-f658-85bce2a4a4f3"
      },
      "execution_count": 20,
      "outputs": [
        {
          "output_type": "stream",
          "name": "stdout",
          "text": [
            "Mean salary: 60000.0\n"
          ]
        }
      ]
    },
    {
      "cell_type": "code",
      "source": [
        "#3 Create a scatter plot using Matplotlib.\n",
        "\n",
        "import matplotlib.pyplot as plt\n",
        "x = [1, 2, 3, 4, 5]\n",
        "y = [2, 4, 6, 8, 10]\n",
        "\n",
        "# Creating scatter plot\n",
        "plt.scatter(x, y, color='blue', label='Data points')\n",
        "plt.xlabel('X-axis')\n",
        "plt.ylabel('Y-axis')\n",
        "plt.title('Scatter Plot Using Matplotlib')\n",
        "plt.legend()\n",
        "plt.show()"
      ],
      "metadata": {
        "colab": {
          "base_uri": "https://localhost:8080/",
          "height": 472
        },
        "id": "_9V4m-HV5614",
        "outputId": "4651e943-0844-420c-cd32-fdacc156939b"
      },
      "execution_count": 21,
      "outputs": [
        {
          "output_type": "display_data",
          "data": {
            "text/plain": [
              "<Figure size 640x480 with 1 Axes>"
            ],
            "image/png": "[encoded data removed]"
          },
          "metadata": {}
        }
      ]
    },
    {
      "cell_type": "code",
      "source": [
        "# 4  How do you calculate the correlation matrix using Seaborn and visualize it with a heatmap?\n",
        "\n",
        "import seaborn as sns\n",
        "import pandas as pd\n",
        "import numpy as np\n",
        "\n",
        "# Creating a sample DataFrame\n",
        "data = np.random.rand(5, 5)\n",
        "df = pd.DataFrame(data, columns=['A', 'B', 'C', 'D', 'E'])\n",
        "\n",
        "# Calculate correlation matrix\n",
        "correlation_matrix = df.corr()\n",
        "\n",
        "# Visualize with a heatmap\n",
        "sns.heatmap(correlation_matrix, annot=True, cmap='coolwarm')\n",
        "plt.title('Correlation Heatmap')\n",
        "plt.show()"
      ],
      "metadata": {
        "colab": {
          "base_uri": "https://localhost:8080/",
          "height": 452
        },
        "id": "QKklvwfi6dpc",
        "outputId": "8041c37d-8a9b-49e1-f0e7-7b48a594ad74"
      },
      "execution_count": 22,
      "outputs": [
        {
          "output_type": "display_data",
          "data": {
            "text/plain": [
              "<Figure size 640x480 with 2 Axes>"
            ],
            "image/png": "[encoded data removed]"
          },
          "metadata": {}
        }
      ]
    },
    {
      "cell_type": "code",
      "source": [
        "#5 Generate a bar plot using Plotly.\n",
        "\n",
        "import plotly.express as px\n",
        "\n",
        "# Data\n",
        "data = {'Category': ['A', 'B', 'C', 'D'], 'Values': [10, 20, 30, 40]}\n",
        "df = pd.DataFrame(data)\n",
        "\n",
        "# Create bar plot\n",
        "fig = px.bar(df, x='Category', y='Values', title='Bar Plot', color='Category')\n",
        "fig.show()"
      ],
      "metadata": {
        "colab": {
          "base_uri": "https://localhost:8080/",
          "height": 542
        },
        "id": "-nwV-jxm60ne",
        "outputId": "405f8676-c8e3-4c1d-845c-519e534da688"
      },
      "execution_count": 23,
      "outputs": [
        {
          "output_type": "display_data",
          "data": {
            "text/html": [
              "<html>\n",
              "<head><meta charset=\"utf-8\" /></head>\n",
              "<body>\n",
              "    <div>            <script src=\"https://cdnjs.cloudflare.com/ajax/libs/mathjax/2.7.5/MathJax.js?config=TeX-AMS-MML_SVG\"></script><script type=\"text/javascript\">if (window.MathJax && window.MathJax.Hub && window.MathJax.Hub.Config) {window.MathJax.Hub.Config({SVG: {font: \"STIX-Web\"}});}</script>                <script type=\"text/javascript\">window.PlotlyConfig = {MathJaxConfig: 'local'};</script>\n",
              "        <script charset=\"utf-8\" src=\"https://cdn.plot.ly/plotly-2.35.2.min.js\"></script>                <div id=\"35a4c288-922d-418a-8c5d-0ccfaaa9df22\" class=\"plotly-graph-div\" style=\"height:525px; width:100%;\"></div>            <script type=\"text/javascript\">                                    window.PLOTLYENV=window.PLOTLYENV || {};                                    if (document.getElementById(\"35a4c288-922d-418a-8c5d-0ccfaaa9df22\")) {                    Plotly.newPlot(                        \"35a4c288-922d-418a-8c5d-0ccfaaa9df22\",                        [{\"alignmentgroup\":\"True\",\"hovertemplate\":\"Category=%{x}\\u003cbr\\u003eValues=%{y}\\u003cextra\\u003e\\u003c\\u002fextra\\u003e\",\"legendgroup\":\"A\",\"marker\":{\"color\":\"#636efa\",\"pattern\":{\"shape\":\"\"}},\"name\":\"A\",\"offsetgroup\":\"A\",\"orientation\":\"v\",\"showlegend\":true,\"textposition\":\"auto\",\"x\":[\"A\"],\"xaxis\":\"x\",\"y\":[10],\"yaxis\":\"y\",\"type\":\"bar\"},{\"alignmentgroup\":\"True\",\"hovertemplate\":\"Category=%{x}\\u003cbr\\u003eValues=%{y}\\u003cextra\\u003e\\u003c\\u002fextra\\u003e\",\"legendgroup\":\"B\",\"marker\":{\"color\":\"#EF553B\",\"pattern\":{\"shape\":\"\"}},\"name\":\"B\",\"offsetgroup\":\"B\",\"orientation\":\"v\",\"showlegend\":true,\"textposition\":\"auto\",\"x\":[\"B\"],\"xaxis\":\"x\",\"y\":[20],\"yaxis\":\"y\",\"type\":\"bar\"},{\"alignmentgroup\":\"True\",\"hovertemplate\":\"Category=%{x}\\u003cbr\\u003eValues=%{y}\\u003cextra\\u003e\\u003c\\u002fextra\\u003e\",\"legendgroup\":\"C\",\"marker\":{\"color\":\"#00cc96\",\"pattern\":{\"shape\":\"\"}},\"name\":\"C\",\"offsetgroup\":\"C\",\"orientation\":\"v\",\"showlegend\":true,\"textposition\":\"auto\",\"x\":[\"C\"],\"xaxis\":\"x\",\"y\":[30],\"yaxis\":\"y\",\"type\":\"bar\"},{\"alignmentgroup\":\"True\",\"hovertemplate\":\"Category=%{x}\\u003cbr\\u003eValues=%{y}\\u003cextra\\u003e\\u003c\\u002fextra\\u003e\",\"legendgroup\":\"D\",\"marker\":{\"color\":\"#ab63fa\",\"pattern\":{\"shape\":\"\"}},\"name\":\"D\",\"offsetgroup\":\"D\",\"orientation\":\"v\",\"showlegend\":true,\"textposition\":\"auto\",\"x\":[\"D\"],\"xaxis\":\"x\",\"y\":[40],\"yaxis\":\"y\",\"type\":\"bar\"}],                        {\"template\":{\"data\":{\"histogram2dcontour\":[{\"type\":\"histogram2dcontour\",\"colorbar\":{\"outlinewidth\":0,\"ticks\":\"\"},\"colorscale\":[[0.0,\"#0d0887\"],[0.1111111111111111,\"#46039f\"],[0.2222222222222222,\"#7201a8\"],[0.3333333333333333,\"#9c179e\"],[0.4444444444444444,\"#bd3786\"],[0.5555555555555556,\"#d8576b\"],[0.6666666666666666,\"#ed7953\"],[0.7777777777777778,\"#fb9f3a\"],[0.8888888888888888,\"#fdca26\"],[1.0,\"#f0f921\"]]}],\"choropleth\":[{\"type\":\"choropleth\",\"colorbar\":{\"outlinewidth\":0,\"ticks\":\"\"}}],\"histogram2d\":[{\"type\":\"histogram2d\",\"colorbar\":{\"outlinewidth\":0,\"ticks\":\"\"},\"colorscale\":[[0.0,\"#0d0887\"],[0.1111111111111111,\"#46039f\"],[0.2222222222222222,\"#7201a8\"],[0.3333333333333333,\"#9c179e\"],[0.4444444444444444,\"#bd3786\"],[0.5555555555555556,\"#d8576b\"],[0.6666666666666666,\"#ed7953\"],[0.7777777777777778,\"#fb9f3a\"],[0.8888888888888888,\"#fdca26\"],[1.0,\"#f0f921\"]]}],\"heatmap\":[{\"type\":\"heatmap\",\"colorbar\":{\"outlinewidth\":0,\"ticks\":\"\"},\"colorscale\":[[0.0,\"#0d0887\"],[0.1111111111111111,\"#46039f\"],[0.2222222222222222,\"#7201a8\"],[0.3333333333333333,\"#9c179e\"],[0.4444444444444444,\"#bd3786\"],[0.5555555555555556,\"#d8576b\"],[0.6666666666666666,\"#ed7953\"],[0.7777777777777778,\"#fb9f3a\"],[0.8888888888888888,\"#fdca26\"],[1.0,\"#f0f921\"]]}],\"heatmapgl\":[{\"type\":\"heatmapgl\",\"colorbar\":{\"outlinewidth\":0,\"ticks\":\"\"},\"colorscale\":[[0.0,\"#0d0887\"],[0.1111111111111111,\"#46039f\"],[0.2222222222222222,\"#7201a8\"],[0.3333333333333333,\"#9c179e\"],[0.4444444444444444,\"#bd3786\"],[0.5555555555555556,\"#d8576b\"],[0.6666666666666666,\"#ed7953\"],[0.7777777777777778,\"#fb9f3a\"],[0.8888888888888888,\"#fdca26\"],[1.0,\"#f0f921\"]]}],\"contourcarpet\":[{\"type\":\"contourcarpet\",\"colorbar\":{\"outlinewidth\":0,\"ticks\":\"\"}}],\"contour\":[{\"type\":\"contour\",\"colorbar\":{\"outlinewidth\":0,\"ticks\":\"\"},\"colorscale\":[[0.0,\"#0d0887\"],[0.1111111111111111,\"#46039f\"],[0.2222222222222222,\"#7201a8\"],[0.3333333333333333,\"#9c179e\"],[0.4444444444444444,\"#bd3786\"],[0.5555555555555556,\"#d8576b\"],[0.6666666666666666,\"#ed7953\"],[0.7777777777777778,\"#fb9f3a\"],[0.8888888888888888,\"#fdca26\"],[1.0,\"#f0f921\"]]}],\"surface\":[{\"type\":\"surface\",\"colorbar\":{\"outlinewidth\":0,\"ticks\":\"\"},\"colorscale\":[[0.0,\"#0d0887\"],[0.1111111111111111,\"#46039f\"],[0.2222222222222222,\"#7201a8\"],[0.3333333333333333,\"#9c179e\"],[0.4444444444444444,\"#bd3786\"],[0.5555555555555556,\"#d8576b\"],[0.6666666666666666,\"#ed7953\"],[0.7777777777777778,\"#fb9f3a\"],[0.8888888888888888,\"#fdca26\"],[1.0,\"#f0f921\"]]}],\"mesh3d\":[{\"type\":\"mesh3d\",\"colorbar\":{\"outlinewidth\":0,\"ticks\":\"\"}}],\"scatter\":[{\"fillpattern\":{\"fillmode\":\"overlay\",\"size\":10,\"solidity\":0.2},\"type\":\"scatter\"}],\"parcoords\":[{\"type\":\"parcoords\",\"line\":{\"colorbar\":{\"outlinewidth\":0,\"ticks\":\"\"}}}],\"scatterpolargl\":[{\"type\":\"scatterpolargl\",\"marker\":{\"colorbar\":{\"outlinewidth\":0,\"ticks\":\"\"}}}],\"bar\":[{\"error_x\":{\"color\":\"#2a3f5f\"},\"error_y\":{\"color\":\"#2a3f5f\"},\"marker\":{\"line\":{\"color\":\"#E5ECF6\",\"width\":0.5},\"pattern\":{\"fillmode\":\"overlay\",\"size\":10,\"solidity\":0.2}},\"type\":\"bar\"}],\"scattergeo\":[{\"type\":\"scattergeo\",\"marker\":{\"colorbar\":{\"outlinewidth\":0,\"ticks\":\"\"}}}],\"scatterpolar\":[{\"type\":\"scatterpolar\",\"marker\":{\"colorbar\":{\"outlinewidth\":0,\"ticks\":\"\"}}}],\"histogram\":[{\"marker\":{\"pattern\":{\"fillmode\":\"overlay\",\"size\":10,\"solidity\":0.2}},\"type\":\"histogram\"}],\"scattergl\":[{\"type\":\"scattergl\",\"marker\":{\"colorbar\":{\"outlinewidth\":0,\"ticks\":\"\"}}}],\"scatter3d\":[{\"type\":\"scatter3d\",\"line\":{\"colorbar\":{\"outlinewidth\":0,\"ticks\":\"\"}},\"marker\":{\"colorbar\":{\"outlinewidth\":0,\"ticks\":\"\"}}}],\"scattermapbox\":[{\"type\":\"scattermapbox\",\"marker\":{\"colorbar\":{\"outlinewidth\":0,\"ticks\":\"\"}}}],\"scatterternary\":[{\"type\":\"scatterternary\",\"marker\":{\"colorbar\":{\"outlinewidth\":0,\"ticks\":\"\"}}}],\"scattercarpet\":[{\"type\":\"scattercarpet\",\"marker\":{\"colorbar\":{\"outlinewidth\":0,\"ticks\":\"\"}}}],\"carpet\":[{\"aaxis\":{\"endlinecolor\":\"#2a3f5f\",\"gridcolor\":\"white\",\"linecolor\":\"white\",\"minorgridcolor\":\"white\",\"startlinecolor\":\"#2a3f5f\"},\"baxis\":{\"endlinecolor\":\"#2a3f5f\",\"gridcolor\":\"white\",\"linecolor\":\"white\",\"minorgridcolor\":\"white\",\"startlinecolor\":\"#2a3f5f\"},\"type\":\"carpet\"}],\"table\":[{\"cells\":{\"fill\":{\"color\":\"#EBF0F8\"},\"line\":{\"color\":\"white\"}},\"header\":{\"fill\":{\"color\":\"#C8D4E3\"},\"line\":{\"color\":\"white\"}},\"type\":\"table\"}],\"barpolar\":[{\"marker\":{\"line\":{\"color\":\"#E5ECF6\",\"width\":0.5},\"pattern\":{\"fillmode\":\"overlay\",\"size\":10,\"solidity\":0.2}},\"type\":\"barpolar\"}],\"pie\":[{\"automargin\":true,\"type\":\"pie\"}]},\"layout\":{\"autotypenumbers\":\"strict\",\"colorway\":[\"#636efa\",\"#EF553B\",\"#00cc96\",\"#ab63fa\",\"#FFA15A\",\"#19d3f3\",\"#FF6692\",\"#B6E880\",\"#FF97FF\",\"#FECB52\"],\"font\":{\"color\":\"#2a3f5f\"},\"hovermode\":\"closest\",\"hoverlabel\":{\"align\":\"left\"},\"paper_bgcolor\":\"white\",\"plot_bgcolor\":\"#E5ECF6\",\"polar\":{\"bgcolor\":\"#E5ECF6\",\"angularaxis\":{\"gridcolor\":\"white\",\"linecolor\":\"white\",\"ticks\":\"\"},\"radialaxis\":{\"gridcolor\":\"white\",\"linecolor\":\"white\",\"ticks\":\"\"}},\"ternary\":{\"bgcolor\":\"#E5ECF6\",\"aaxis\":{\"gridcolor\":\"white\",\"linecolor\":\"white\",\"ticks\":\"\"},\"baxis\":{\"gridcolor\":\"white\",\"linecolor\":\"white\",\"ticks\":\"\"},\"caxis\":{\"gridcolor\":\"white\",\"linecolor\":\"white\",\"ticks\":\"\"}},\"coloraxis\":{\"colorbar\":{\"outlinewidth\":0,\"ticks\":\"\"}},\"colorscale\":{\"sequential\":[[0.0,\"#0d0887\"],[0.1111111111111111,\"#46039f\"],[0.2222222222222222,\"#7201a8\"],[0.3333333333333333,\"#9c179e\"],[0.4444444444444444,\"#bd3786\"],[0.5555555555555556,\"#d8576b\"],[0.6666666666666666,\"#ed7953\"],[0.7777777777777778,\"#fb9f3a\"],[0.8888888888888888,\"#fdca26\"],[1.0,\"#f0f921\"]],\"sequentialminus\":[[0.0,\"#0d0887\"],[0.1111111111111111,\"#46039f\"],[0.2222222222222222,\"#7201a8\"],[0.3333333333333333,\"#9c179e\"],[0.4444444444444444,\"#bd3786\"],[0.5555555555555556,\"#d8576b\"],[0.6666666666666666,\"#ed7953\"],[0.7777777777777778,\"#fb9f3a\"],[0.8888888888888888,\"#fdca26\"],[1.0,\"#f0f921\"]],\"diverging\":[[0,\"#8e0152\"],[0.1,\"#c51b7d\"],[0.2,\"#de77ae\"],[0.3,\"#f1b6da\"],[0.4,\"#fde0ef\"],[0.5,\"#f7f7f7\"],[0.6,\"#e6f5d0\"],[0.7,\"#b8e186\"],[0.8,\"#7fbc41\"],[0.9,\"#4d9221\"],[1,\"#276419\"]]},\"xaxis\":{\"gridcolor\":\"white\",\"linecolor\":\"white\",\"ticks\":\"\",\"title\":{\"standoff\":15},\"zerolinecolor\":\"white\",\"automargin\":true,\"zerolinewidth\":2},\"yaxis\":{\"gridcolor\":\"white\",\"linecolor\":\"white\",\"ticks\":\"\",\"title\":{\"standoff\":15},\"zerolinecolor\":\"white\",\"automargin\":true,\"zerolinewidth\":2},\"scene\":{\"xaxis\":{\"backgroundcolor\":\"#E5ECF6\",\"gridcolor\":\"white\",\"linecolor\":\"white\",\"showbackground\":true,\"ticks\":\"\",\"zerolinecolor\":\"white\",\"gridwidth\":2},\"yaxis\":{\"backgroundcolor\":\"#E5ECF6\",\"gridcolor\":\"white\",\"linecolor\":\"white\",\"showbackground\":true,\"ticks\":\"\",\"zerolinecolor\":\"white\",\"gridwidth\":2},\"zaxis\":{\"backgroundcolor\":\"#E5ECF6\",\"gridcolor\":\"white\",\"linecolor\":\"white\",\"showbackground\":true,\"ticks\":\"\",\"zerolinecolor\":\"white\",\"gridwidth\":2}},\"shapedefaults\":{\"line\":{\"color\":\"#2a3f5f\"}},\"annotationdefaults\":{\"arrowcolor\":\"#2a3f5f\",\"arrowhead\":0,\"arrowwidth\":1},\"geo\":{\"bgcolor\":\"white\",\"landcolor\":\"#E5ECF6\",\"subunitcolor\":\"white\",\"showland\":true,\"showlakes\":true,\"lakecolor\":\"white\"},\"title\":{\"x\":0.05},\"mapbox\":{\"style\":\"light\"}}},\"xaxis\":{\"anchor\":\"y\",\"domain\":[0.0,1.0],\"title\":{\"text\":\"Category\"},\"categoryorder\":\"array\",\"categoryarray\":[\"A\",\"B\",\"C\",\"D\"]},\"yaxis\":{\"anchor\":\"x\",\"domain\":[0.0,1.0],\"title\":{\"text\":\"Values\"}},\"legend\":{\"title\":{\"text\":\"Category\"},\"tracegroupgap\":0},\"title\":{\"text\":\"Bar Plot\"},\"barmode\":\"relative\"},                        {\"responsive\": true}                    ).then(function(){\n",
              "                            \n",
              "var gd = document.getElementById('35a4c288-922d-418a-8c5d-0ccfaaa9df22');\n",
              "var x = new MutationObserver(function (mutations, observer) {{\n",
              "        var display = window.getComputedStyle(gd).display;\n",
              "        if (!display || display === 'none') {{\n",
              "            console.log([gd, 'removed!']);\n",
              "            Plotly.purge(gd);\n",
              "            observer.disconnect();\n",
              "        }}\n",
              "}});\n",
              "\n",
              "// Listen for the removal of the full notebook cells\n",
              "var notebookContainer = gd.closest('#notebook-container');\n",
              "if (notebookContainer) {{\n",
              "    x.observe(notebookContainer, {childList: true});\n",
              "}}\n",
              "\n",
              "// Listen for the clearing of the current output cell\n",
              "var outputEl = gd.closest('.output');\n",
              "if (outputEl) {{\n",
              "    x.observe(outputEl, {childList: true});\n",
              "}}\n",
              "\n",
              "                        })                };                            </script>        </div>\n",
              "</body>\n",
              "</html>"
            ]
          },
          "metadata": {}
        }
      ]
    },
    {
      "cell_type": "code",
      "source": [
        "# 6  Create a DataFrame and add a new column based on an existing column.\n",
        "\n",
        "import pandas as pd\n",
        "\n",
        "# Create a DataFrame\n",
        "data = {'Name': ['Ekta', 'Vishal', 'Nishi', 'Aarya'], 'Age': [25, 21, 39 , 31]}\n",
        "df = pd.DataFrame(data)\n",
        "\n",
        "# Add a new column based on the 'Age' column\n",
        "df['Age Group'] = df['Age'].apply(lambda x: 'Youth' if x < 30 else 'Mid-aged Adult')\n",
        "print(df)"
      ],
      "metadata": {
        "colab": {
          "base_uri": "https://localhost:8080/"
        },
        "id": "UsWCRw4A60uI",
        "outputId": "048ca339-f538-4ace-f775-b672c27a6115"
      },
      "execution_count": 24,
      "outputs": [
        {
          "output_type": "stream",
          "name": "stdout",
          "text": [
            "     Name  Age       Age Group\n",
            "0    Ekta   25           Youth\n",
            "1  Vishal   21           Youth\n",
            "2   Nishi   39  Mid-aged Adult\n",
            "3   Aarya   31  Mid-aged Adult\n"
          ]
        }
      ]
    },
    {
      "cell_type": "code",
      "source": [
        "#7 Write a program to perform element-wise multiplication of two NumPy arrays.\n",
        "\n",
        "import numpy as np\n",
        "\n",
        "array1 = np.array([1, 2, 3])\n",
        "array2 = np.array([4, 5, 6])\n",
        "\n",
        "# Element-wise multiplication\n",
        "result = array1 * array2\n",
        "print(\"Element-wise multiplication:\", result)"
      ],
      "metadata": {
        "colab": {
          "base_uri": "https://localhost:8080/"
        },
        "id": "ZD-J0UmN8ONV",
        "outputId": "e2afa55a-ee06-4e5a-ce62-e88111f35470"
      },
      "execution_count": 25,
      "outputs": [
        {
          "output_type": "stream",
          "name": "stdout",
          "text": [
            "Element-wise multiplication: [ 4 10 18]\n"
          ]
        }
      ]
    },
    {
      "cell_type": "code",
      "source": [
        "#8 Create a line plot with multiple lines using Matplotlib.\n",
        "\n",
        "import matplotlib.pyplot as plt\n",
        "\n",
        "x = [1, 2, 3, 4, 5]\n",
        "y1 = [1, 4, 9, 16, 25]\n",
        "y2 = [1, 8, 27, 64, 125]\n",
        "\n",
        "plt.plot(x, y1, label='y = x^2', color='blue')\n",
        "plt.plot(x, y2, label='y = x^3', color='green')\n",
        "plt.xlabel('X-axis')\n",
        "plt.ylabel('Y-axis')\n",
        "plt.title('Line Plot with Multiple Lines using Matplotlib')\n",
        "plt.legend()\n",
        "plt.show()"
      ],
      "metadata": {
        "colab": {
          "base_uri": "https://localhost:8080/",
          "height": 472
        },
        "id": "hzEff-md9Zgt",
        "outputId": "90ffa798-ae4e-4091-d30b-73e9bc250556"
      },
      "execution_count": 26,
      "outputs": [
        {
          "output_type": "display_data",
          "data": {
            "text/plain": [
              "<Figure size 640x480 with 1 Axes>"
            ],
            "image/png": "[encoded data removed]"
          },
          "metadata": {}
        }
      ]
    },
    {
      "cell_type": "code",
      "source": [
        "#9 Generate a Pandas DataFrame and filter rows where a column value is greater than a threshold.\n",
        "\n",
        "import pandas as pd\n",
        "\n",
        "# Create a DataFrame\n",
        "data = {'Name': ['Akaash', 'Baby', 'Chandani'], 'Age': [25, 30, 35]}\n",
        "df = pd.DataFrame(data)\n",
        "\n",
        "# Filter rows where 'Age' is greater than 30\n",
        "filtered_df = df[df['Age'] > 30]\n",
        "print(filtered_df)"
      ],
      "metadata": {
        "colab": {
          "base_uri": "https://localhost:8080/"
        },
        "id": "kqhGQhOf9Znb",
        "outputId": "5ab71a94-0b38-4535-e1db-6aea31b9f88b"
      },
      "execution_count": 27,
      "outputs": [
        {
          "output_type": "stream",
          "name": "stdout",
          "text": [
            "       Name  Age\n",
            "2  Chandani   35\n"
          ]
        }
      ]
    },
    {
      "cell_type": "code",
      "source": [
        "#10  Create a histogram using Seaborn to visualize a distribution\n",
        "import seaborn as sns\n",
        "import numpy as np\n",
        "\n",
        "data = np.random.normal(loc=0, scale=1, size=1000)\n",
        "\n",
        "# Create histogram\n",
        "sns.histplot(data, kde=True, bins=30, color='blue')\n",
        "plt.title('Histogram Using seaborn')\n",
        "plt.xlabel('Value')\n",
        "plt.ylabel('Frequency')\n",
        "plt.show()"
      ],
      "metadata": {
        "colab": {
          "base_uri": "https://localhost:8080/",
          "height": 472
        },
        "id": "ZeeJjICf__9Y",
        "outputId": "daeb8c12-0faa-4c6d-82af-8f929f4aecb8"
      },
      "execution_count": 28,
      "outputs": [
        {
          "output_type": "display_data",
          "data": {
            "text/plain": [
              "<Figure size 640x480 with 1 Axes>"
            ],
            "image/png": "[encoded data removed]"
          },
          "metadata": {}
        }
      ]
    },
    {
      "cell_type": "code",
      "source": [
        "#11  Perform matrix multiplication using NumPy.\n",
        "\n",
        "import numpy as np\n",
        "\n",
        "matrix1 = np.array([[1, 2], [3, 4]])\n",
        "matrix2 = np.array([[5, 6], [7, 8]])\n",
        "\n",
        "# Matrix multiplication\n",
        "result = np.dot(matrix1, matrix2)\n",
        "print(\"Matrix multiplication result:\\n\", result)"
      ],
      "metadata": {
        "colab": {
          "base_uri": "https://localhost:8080/"
        },
        "id": "MZ_2akojAneT",
        "outputId": "f539f242-e002-41f8-d165-0b64297687fc"
      },
      "execution_count": 29,
      "outputs": [
        {
          "output_type": "stream",
          "name": "stdout",
          "text": [
            "Matrix multiplication result:\n",
            " [[19 22]\n",
            " [43 50]]\n"
          ]
        }
      ]
    },
    {
      "cell_type": "code",
      "source": [
        "#12 Use Pandas to load a CSV file and display its first 5 rows.\n",
        "\n",
        "import pandas as pd\n",
        "from google.colab import files\n",
        "\n",
        "df = pd.read_csv('inventory.csv')\n",
        "\n",
        "# Display the first 5 rows\n",
        "print(df.head())"
      ],
      "metadata": {
        "colab": {
          "base_uri": "https://localhost:8080/"
        },
        "id": "p4n2HuoHBN6o",
        "outputId": "dca18d47-5a9b-46f8-ef6d-6f230bf32877"
      },
      "execution_count": 30,
      "outputs": [
        {
          "output_type": "stream",
          "name": "stdout",
          "text": [
            "   ProductID         ProductName     Category  Quantity  Price\n",
            "0        101     Apple iPhone 14  Electronics        50    799\n",
            "1        102  Samsung Galaxy S23  Electronics        30    749\n",
            "2        103         Dell XPS 13      Laptops        20    999\n",
            "3        104      HP Pavilion 15      Laptops        25    850\n",
            "4        105        Nike Air Max        Shoes       100    120\n"
          ]
        }
      ]
    },
    {
      "cell_type": "code",
      "source": [
        "#13  Create a 3D scatter plot using Plotly.\n",
        "\n",
        "import plotly.express as px\n",
        "import pandas as pd\n",
        "\n",
        "data = {'X': [1, 2, 3, 4, 5], 'Y': [2, 4, 6, 8, 10], 'Z': [5, 10, 15, 20, 25]}\n",
        "df = pd.DataFrame(data)\n",
        "\n",
        "# Create 3D scatter plot\n",
        "fig = px.scatter_3d(df, x='X', y='Y', z='Z', title='3D Scatter Plot', color='Z')\n",
        "fig.show()"
      ],
      "metadata": {
        "colab": {
          "base_uri": "https://localhost:8080/",
          "height": 542
        },
        "id": "Hj_pnJUgBXQe",
        "outputId": "555e7049-acf7-422d-ac52-eeba12d73726"
      },
      "execution_count": 31,
      "outputs": [
        {
          "output_type": "display_data",
          "data": {
            "text/html": [
              "<html>\n",
              "<head><meta charset=\"utf-8\" /></head>\n",
              "<body>\n",
              "    <div>            <script src=\"https://cdnjs.cloudflare.com/ajax/libs/mathjax/2.7.5/MathJax.js?config=TeX-AMS-MML_SVG\"></script><script type=\"text/javascript\">if (window.MathJax && window.MathJax.Hub && window.MathJax.Hub.Config) {window.MathJax.Hub.Config({SVG: {font: \"STIX-Web\"}});}</script>                <script type=\"text/javascript\">window.PlotlyConfig = {MathJaxConfig: 'local'};</script>\n",
              "        <script charset=\"utf-8\" src=\"https://cdn.plot.ly/plotly-2.35.2.min.js\"></script>                <div id=\"79bbe56d-b224-4bfb-a3ed-dc712402d4cb\" class=\"plotly-graph-div\" style=\"height:525px; width:100%;\"></div>            <script type=\"text/javascript\">                                    window.PLOTLYENV=window.PLOTLYENV || {};                                    if (document.getElementById(\"79bbe56d-b224-4bfb-a3ed-dc712402d4cb\")) {                    Plotly.newPlot(                        \"79bbe56d-b224-4bfb-a3ed-dc712402d4cb\",                        [{\"hovertemplate\":\"X=%{x}\\u003cbr\\u003eY=%{y}\\u003cbr\\u003eZ=%{marker.color}\\u003cextra\\u003e\\u003c\\u002fextra\\u003e\",\"legendgroup\":\"\",\"marker\":{\"color\":[5,10,15,20,25],\"coloraxis\":\"coloraxis\",\"symbol\":\"circle\"},\"mode\":\"markers\",\"name\":\"\",\"scene\":\"scene\",\"showlegend\":false,\"x\":[1,2,3,4,5],\"y\":[2,4,6,8,10],\"z\":[5,10,15,20,25],\"type\":\"scatter3d\"}],                        {\"template\":{\"data\":{\"histogram2dcontour\":[{\"type\":\"histogram2dcontour\",\"colorbar\":{\"outlinewidth\":0,\"ticks\":\"\"},\"colorscale\":[[0.0,\"#0d0887\"],[0.1111111111111111,\"#46039f\"],[0.2222222222222222,\"#7201a8\"],[0.3333333333333333,\"#9c179e\"],[0.4444444444444444,\"#bd3786\"],[0.5555555555555556,\"#d8576b\"],[0.6666666666666666,\"#ed7953\"],[0.7777777777777778,\"#fb9f3a\"],[0.8888888888888888,\"#fdca26\"],[1.0,\"#f0f921\"]]}],\"choropleth\":[{\"type\":\"choropleth\",\"colorbar\":{\"outlinewidth\":0,\"ticks\":\"\"}}],\"histogram2d\":[{\"type\":\"histogram2d\",\"colorbar\":{\"outlinewidth\":0,\"ticks\":\"\"},\"colorscale\":[[0.0,\"#0d0887\"],[0.1111111111111111,\"#46039f\"],[0.2222222222222222,\"#7201a8\"],[0.3333333333333333,\"#9c179e\"],[0.4444444444444444,\"#bd3786\"],[0.5555555555555556,\"#d8576b\"],[0.6666666666666666,\"#ed7953\"],[0.7777777777777778,\"#fb9f3a\"],[0.8888888888888888,\"#fdca26\"],[1.0,\"#f0f921\"]]}],\"heatmap\":[{\"type\":\"heatmap\",\"colorbar\":{\"outlinewidth\":0,\"ticks\":\"\"},\"colorscale\":[[0.0,\"#0d0887\"],[0.1111111111111111,\"#46039f\"],[0.2222222222222222,\"#7201a8\"],[0.3333333333333333,\"#9c179e\"],[0.4444444444444444,\"#bd3786\"],[0.5555555555555556,\"#d8576b\"],[0.6666666666666666,\"#ed7953\"],[0.7777777777777778,\"#fb9f3a\"],[0.8888888888888888,\"#fdca26\"],[1.0,\"#f0f921\"]]}],\"heatmapgl\":[{\"type\":\"heatmapgl\",\"colorbar\":{\"outlinewidth\":0,\"ticks\":\"\"},\"colorscale\":[[0.0,\"#0d0887\"],[0.1111111111111111,\"#46039f\"],[0.2222222222222222,\"#7201a8\"],[0.3333333333333333,\"#9c179e\"],[0.4444444444444444,\"#bd3786\"],[0.5555555555555556,\"#d8576b\"],[0.6666666666666666,\"#ed7953\"],[0.7777777777777778,\"#fb9f3a\"],[0.8888888888888888,\"#fdca26\"],[1.0,\"#f0f921\"]]}],\"contourcarpet\":[{\"type\":\"contourcarpet\",\"colorbar\":{\"outlinewidth\":0,\"ticks\":\"\"}}],\"contour\":[{\"type\":\"contour\",\"colorbar\":{\"outlinewidth\":0,\"ticks\":\"\"},\"colorscale\":[[0.0,\"#0d0887\"],[0.1111111111111111,\"#46039f\"],[0.2222222222222222,\"#7201a8\"],[0.3333333333333333,\"#9c179e\"],[0.4444444444444444,\"#bd3786\"],[0.5555555555555556,\"#d8576b\"],[0.6666666666666666,\"#ed7953\"],[0.7777777777777778,\"#fb9f3a\"],[0.8888888888888888,\"#fdca26\"],[1.0,\"#f0f921\"]]}],\"surface\":[{\"type\":\"surface\",\"colorbar\":{\"outlinewidth\":0,\"ticks\":\"\"},\"colorscale\":[[0.0,\"#0d0887\"],[0.1111111111111111,\"#46039f\"],[0.2222222222222222,\"#7201a8\"],[0.3333333333333333,\"#9c179e\"],[0.4444444444444444,\"#bd3786\"],[0.5555555555555556,\"#d8576b\"],[0.6666666666666666,\"#ed7953\"],[0.7777777777777778,\"#fb9f3a\"],[0.8888888888888888,\"#fdca26\"],[1.0,\"#f0f921\"]]}],\"mesh3d\":[{\"type\":\"mesh3d\",\"colorbar\":{\"outlinewidth\":0,\"ticks\":\"\"}}],\"scatter\":[{\"fillpattern\":{\"fillmode\":\"overlay\",\"size\":10,\"solidity\":0.2},\"type\":\"scatter\"}],\"parcoords\":[{\"type\":\"parcoords\",\"line\":{\"colorbar\":{\"outlinewidth\":0,\"ticks\":\"\"}}}],\"scatterpolargl\":[{\"type\":\"scatterpolargl\",\"marker\":{\"colorbar\":{\"outlinewidth\":0,\"ticks\":\"\"}}}],\"bar\":[{\"error_x\":{\"color\":\"#2a3f5f\"},\"error_y\":{\"color\":\"#2a3f5f\"},\"marker\":{\"line\":{\"color\":\"#E5ECF6\",\"width\":0.5},\"pattern\":{\"fillmode\":\"overlay\",\"size\":10,\"solidity\":0.2}},\"type\":\"bar\"}],\"scattergeo\":[{\"type\":\"scattergeo\",\"marker\":{\"colorbar\":{\"outlinewidth\":0,\"ticks\":\"\"}}}],\"scatterpolar\":[{\"type\":\"scatterpolar\",\"marker\":{\"colorbar\":{\"outlinewidth\":0,\"ticks\":\"\"}}}],\"histogram\":[{\"marker\":{\"pattern\":{\"fillmode\":\"overlay\",\"size\":10,\"solidity\":0.2}},\"type\":\"histogram\"}],\"scattergl\":[{\"type\":\"scattergl\",\"marker\":{\"colorbar\":{\"outlinewidth\":0,\"ticks\":\"\"}}}],\"scatter3d\":[{\"type\":\"scatter3d\",\"line\":{\"colorbar\":{\"outlinewidth\":0,\"ticks\":\"\"}},\"marker\":{\"colorbar\":{\"outlinewidth\":0,\"ticks\":\"\"}}}],\"scattermapbox\":[{\"type\":\"scattermapbox\",\"marker\":{\"colorbar\":{\"outlinewidth\":0,\"ticks\":\"\"}}}],\"scatterternary\":[{\"type\":\"scatterternary\",\"marker\":{\"colorbar\":{\"outlinewidth\":0,\"ticks\":\"\"}}}],\"scattercarpet\":[{\"type\":\"scattercarpet\",\"marker\":{\"colorbar\":{\"outlinewidth\":0,\"ticks\":\"\"}}}],\"carpet\":[{\"aaxis\":{\"endlinecolor\":\"#2a3f5f\",\"gridcolor\":\"white\",\"linecolor\":\"white\",\"minorgridcolor\":\"white\",\"startlinecolor\":\"#2a3f5f\"},\"baxis\":{\"endlinecolor\":\"#2a3f5f\",\"gridcolor\":\"white\",\"linecolor\":\"white\",\"minorgridcolor\":\"white\",\"startlinecolor\":\"#2a3f5f\"},\"type\":\"carpet\"}],\"table\":[{\"cells\":{\"fill\":{\"color\":\"#EBF0F8\"},\"line\":{\"color\":\"white\"}},\"header\":{\"fill\":{\"color\":\"#C8D4E3\"},\"line\":{\"color\":\"white\"}},\"type\":\"table\"}],\"barpolar\":[{\"marker\":{\"line\":{\"color\":\"#E5ECF6\",\"width\":0.5},\"pattern\":{\"fillmode\":\"overlay\",\"size\":10,\"solidity\":0.2}},\"type\":\"barpolar\"}],\"pie\":[{\"automargin\":true,\"type\":\"pie\"}]},\"layout\":{\"autotypenumbers\":\"strict\",\"colorway\":[\"#636efa\",\"#EF553B\",\"#00cc96\",\"#ab63fa\",\"#FFA15A\",\"#19d3f3\",\"#FF6692\",\"#B6E880\",\"#FF97FF\",\"#FECB52\"],\"font\":{\"color\":\"#2a3f5f\"},\"hovermode\":\"closest\",\"hoverlabel\":{\"align\":\"left\"},\"paper_bgcolor\":\"white\",\"plot_bgcolor\":\"#E5ECF6\",\"polar\":{\"bgcolor\":\"#E5ECF6\",\"angularaxis\":{\"gridcolor\":\"white\",\"linecolor\":\"white\",\"ticks\":\"\"},\"radialaxis\":{\"gridcolor\":\"white\",\"linecolor\":\"white\",\"ticks\":\"\"}},\"ternary\":{\"bgcolor\":\"#E5ECF6\",\"aaxis\":{\"gridcolor\":\"white\",\"linecolor\":\"white\",\"ticks\":\"\"},\"baxis\":{\"gridcolor\":\"white\",\"linecolor\":\"white\",\"ticks\":\"\"},\"caxis\":{\"gridcolor\":\"white\",\"linecolor\":\"white\",\"ticks\":\"\"}},\"coloraxis\":{\"colorbar\":{\"outlinewidth\":0,\"ticks\":\"\"}},\"colorscale\":{\"sequential\":[[0.0,\"#0d0887\"],[0.1111111111111111,\"#46039f\"],[0.2222222222222222,\"#7201a8\"],[0.3333333333333333,\"#9c179e\"],[0.4444444444444444,\"#bd3786\"],[0.5555555555555556,\"#d8576b\"],[0.6666666666666666,\"#ed7953\"],[0.7777777777777778,\"#fb9f3a\"],[0.8888888888888888,\"#fdca26\"],[1.0,\"#f0f921\"]],\"sequentialminus\":[[0.0,\"#0d0887\"],[0.1111111111111111,\"#46039f\"],[0.2222222222222222,\"#7201a8\"],[0.3333333333333333,\"#9c179e\"],[0.4444444444444444,\"#bd3786\"],[0.5555555555555556,\"#d8576b\"],[0.6666666666666666,\"#ed7953\"],[0.7777777777777778,\"#fb9f3a\"],[0.8888888888888888,\"#fdca26\"],[1.0,\"#f0f921\"]],\"diverging\":[[0,\"#8e0152\"],[0.1,\"#c51b7d\"],[0.2,\"#de77ae\"],[0.3,\"#f1b6da\"],[0.4,\"#fde0ef\"],[0.5,\"#f7f7f7\"],[0.6,\"#e6f5d0\"],[0.7,\"#b8e186\"],[0.8,\"#7fbc41\"],[0.9,\"#4d9221\"],[1,\"#276419\"]]},\"xaxis\":{\"gridcolor\":\"white\",\"linecolor\":\"white\",\"ticks\":\"\",\"title\":{\"standoff\":15},\"zerolinecolor\":\"white\",\"automargin\":true,\"zerolinewidth\":2},\"yaxis\":{\"gridcolor\":\"white\",\"linecolor\":\"white\",\"ticks\":\"\",\"title\":{\"standoff\":15},\"zerolinecolor\":\"white\",\"automargin\":true,\"zerolinewidth\":2},\"scene\":{\"xaxis\":{\"backgroundcolor\":\"#E5ECF6\",\"gridcolor\":\"white\",\"linecolor\":\"white\",\"showbackground\":true,\"ticks\":\"\",\"zerolinecolor\":\"white\",\"gridwidth\":2},\"yaxis\":{\"backgroundcolor\":\"#E5ECF6\",\"gridcolor\":\"white\",\"linecolor\":\"white\",\"showbackground\":true,\"ticks\":\"\",\"zerolinecolor\":\"white\",\"gridwidth\":2},\"zaxis\":{\"backgroundcolor\":\"#E5ECF6\",\"gridcolor\":\"white\",\"linecolor\":\"white\",\"showbackground\":true,\"ticks\":\"\",\"zerolinecolor\":\"white\",\"gridwidth\":2}},\"shapedefaults\":{\"line\":{\"color\":\"#2a3f5f\"}},\"annotationdefaults\":{\"arrowcolor\":\"#2a3f5f\",\"arrowhead\":0,\"arrowwidth\":1},\"geo\":{\"bgcolor\":\"white\",\"landcolor\":\"#E5ECF6\",\"subunitcolor\":\"white\",\"showland\":true,\"showlakes\":true,\"lakecolor\":\"white\"},\"title\":{\"x\":0.05},\"mapbox\":{\"style\":\"light\"}}},\"scene\":{\"domain\":{\"x\":[0.0,1.0],\"y\":[0.0,1.0]},\"xaxis\":{\"title\":{\"text\":\"X\"}},\"yaxis\":{\"title\":{\"text\":\"Y\"}},\"zaxis\":{\"title\":{\"text\":\"Z\"}}},\"coloraxis\":{\"colorbar\":{\"title\":{\"text\":\"Z\"}},\"colorscale\":[[0.0,\"#0d0887\"],[0.1111111111111111,\"#46039f\"],[0.2222222222222222,\"#7201a8\"],[0.3333333333333333,\"#9c179e\"],[0.4444444444444444,\"#bd3786\"],[0.5555555555555556,\"#d8576b\"],[0.6666666666666666,\"#ed7953\"],[0.7777777777777778,\"#fb9f3a\"],[0.8888888888888888,\"#fdca26\"],[1.0,\"#f0f921\"]]},\"legend\":{\"tracegroupgap\":0},\"title\":{\"text\":\"3D Scatter Plot\"}},                        {\"responsive\": true}                    ).then(function(){\n",
              "                            \n",
              "var gd = document.getElementById('79bbe56d-b224-4bfb-a3ed-dc712402d4cb');\n",
              "var x = new MutationObserver(function (mutations, observer) {{\n",
              "        var display = window.getComputedStyle(gd).display;\n",
              "        if (!display || display === 'none') {{\n",
              "            console.log([gd, 'removed!']);\n",
              "            Plotly.purge(gd);\n",
              "            observer.disconnect();\n",
              "        }}\n",
              "}});\n",
              "\n",
              "// Listen for the removal of the full notebook cells\n",
              "var notebookContainer = gd.closest('#notebook-container');\n",
              "if (notebookContainer) {{\n",
              "    x.observe(notebookContainer, {childList: true});\n",
              "}}\n",
              "\n",
              "// Listen for the clearing of the current output cell\n",
              "var outputEl = gd.closest('.output');\n",
              "if (outputEl) {{\n",
              "    x.observe(outputEl, {childList: true});\n",
              "}}\n",
              "\n",
              "                        })                };                            </script>        </div>\n",
              "</body>\n",
              "</html>"
            ]
          },
          "metadata": {}
        }
      ]
    }
  ]
}