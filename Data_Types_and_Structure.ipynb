{
  "nbformat": 4,
  "nbformat_minor": 0,
  "metadata": {
    "colab": {
      "provenance": []
    },
    "kernelspec": {
      "name": "python3",
      "display_name": "Python 3"
    },
    "language_info": {
      "name": "python"
    }
  },
  "cells": [
    {
      "cell_type": "markdown",
      "source": [
        "# DATA TYPES AND STRUCTURE"
      ],
      "metadata": {
        "id": "juFW8k0GpuWR"
      }
    },
    {
      "cell_type": "markdown",
      "source": [
        "# Theoretical Questions"
      ],
      "metadata": {
        "id": "Avz1p83gXSZM"
      }
    },
    {
      "cell_type": "markdown",
      "source": [
        "Q1)  What are data structures, and why are they important?\n",
        "\n",
        "Ans: Data structures are specialized ways of organizing, managing, accessing and storing data in a computer so it can be used efficiently.They define the relationship between data and the operations that can be performed on it.\n",
        "\n",
        "Data Structure are of two types:\n",
        "* built-in types like lists, tuples, sets, and dictionaries\n",
        "* custom types like linked lists and trees.\n",
        "\n",
        "Importance of Data Structure :\n",
        "\n",
        "Efficiency: Choosing the ringt Data Structure Improves performance of operations like searching, sorting, and updating data. For example, searching for an element in a set is faster than in a list.\n",
        "\n",
        "Organization: Helps structure data logically, making programs easier to understand.\n",
        "\n",
        "Problem-Solving: Different tasks need different data structures, like stacks for undo operations or queues for task scheduling.\n",
        "\n",
        "Flexibility: Python’s built-in structures allow rapid development.\n",
        "\n",
        "Scalability: Ensures programs can handle larger datasets effectively.\n",
        "\n",
        "Q2) Explain the difference between mutable and immutable data types with examples.\n",
        "\n",
        "Ans: Mutable means \"changeable\". Mutability refers to the ability of an object to be changed or altered after it is created.\n",
        "\n",
        " Mutable: These data types cannot be modified after creation. Any operation that appears to modify the object creates a new object in memory instead.. Lists, Dictionaries and Sets are Mutable objects.\n",
        "\n",
        " For example:\n",
        "\n",
        "    my_list = [1, 2, 3]\n",
        "    my_list.append(4)  # Modifies the existing list\n",
        "    print(my_list)  # Output: [1, 2, 3, 4]\n",
        "\n",
        "Immutable: These types cannot be changed after creation. For example, tuples, strings, and integers.Any operation that appears to modify the object creates a new object in memory instead.Strings, tuples, integers, and floats are Immutable objects.\n",
        "\n",
        "For example:\n",
        "\n",
        "    my_string = \"hello\"\n",
        "    my_string = my_string + \" world\"  # Creates a new string object\n",
        "    print(my_string)  # Output: \"hello world\"\n",
        "\n",
        "    \n",
        "Q3)  What are the main differences between lists and tuples in Python?\n",
        "\n",
        "Ans: Lists and Tuples both are used to store collections of items, but the main difference between lists and tuples IS mutability. A list is mutable, meaning its elements can be modified after creation, while a tuple is immutable, meaning its elements cannot be changed once the tuple is created.\n",
        "\n",
        "**Key difrencess:**\n",
        "\n",
        "List:\n",
        "\n",
        "* Mutable(Can be modified after creation.)\n",
        "* Defined with square brackets [].\n",
        "* Slower & require more memory than tuples due to mutability.\n",
        "* Used when the data needs to change.\n",
        "* syntax-[1, 2, 3]\n",
        "\n",
        "For example:\n",
        "\n",
        "    my_list = [1, 2, 3]\n",
        "    my_list.append(4)  # Modifies the existing list\n",
        "    print(my_list)  # Output: [1, 2, 3, 4]\n",
        "\n",
        "Tuples:\n",
        "\n",
        "* Immutable(Cannot be modified after creation.)\n",
        "* Defined with parentheses ().\n",
        "* Faster & require less memory than lists due to immutability.\n",
        "* Used for fixed or constant data.\n",
        "\n",
        "For Example:\n",
        "\n",
        "    my_tuple = (1, 2, 3)\n",
        "    # my_tuple[0] = 4  # This would raise a TypeError as tuples are immutable\n",
        "    print(my_tuple)  # Output: (1, 2, 3)\n",
        "\n",
        "\n",
        "Q4)  Describe how dictionaries store data.\n",
        "\n",
        "Ans: Dictionaries store data as key-value pairs using a hash table internally.\n",
        "Keys are like labels which must be unique and unchangeable, and values which  values can be of any data type are the data associated with those keys. Dictionaries are useful for storing data that needs to be accessed quickly and efficiently.\n",
        "\n",
        "For Example:\n",
        "\n",
        "    my_dict = {\"name\": \"Ekta\", \"age\": 25, \"city\": \"New Delhi\"}\n",
        "\n",
        "Q5) Why might you use a set instead of a list in Python?\n",
        "\n",
        "Ans: set is used instead of a list in when we need to store a collection of unique items and perform operations like membership testing, union, intersection, or difference efficiently.\n",
        "\n",
        "**Key Reasons to Use a Set Over a List:**\n",
        "\n",
        "* Automatically removes duplicate values and store tore unique values.\n",
        "* Faster membership testing is required compared to lists.\n",
        "* Sets can be more memory-efficient when working with large collections of unique data.\n",
        "* Use sets when the order of elements is irrelevant.\n",
        "* To perform mathematical operations because sets support operations like   union, intersection, and difference.\n",
        "Faster Membership Testing:\n",
        "\n",
        "For example:\n",
        "\n",
        "    my_set = {1, 2, 3, 3}  # Output: {1, 2, 3}\n",
        "    my_list = [1, 2, 3, 3]  # Output: [1, 2, 3, 3]\n",
        "\n",
        "Q6)  What is a string in Python, and how is it different from a list?\n",
        "\n",
        "Ans: A string in Python is a sequence of characters enclosed in single ('), double (\"), or triple quotes (''' or \"\"\"`). Strings are immutable, meaning they cannot be changed after creation.\n",
        "\n",
        "For Example:\n",
        "\n",
        "    my_string = \"hello\"\n",
        "Strings: A sequence of characters that is immutable (can’t change) and used for text processing.\n",
        "Lists: Data structure that is used to store a collection of items in a single variable. Lists are ordered, heterogeneous, and mutable (Can Change).\n",
        "   \n",
        "    # my_string[0] = \"H\"  # Error! Strings can't be modified.\n",
        "    my_list = [\"h\", \"e\", \"l\", \"l\", \"o\"]\n",
        "    my_list[0] = \"H\"  # Works fine\n",
        "    print(my_list)  # Output: ['H', 'e', 'l', 'l', 'o']\n",
        "\n",
        "Q7) How do tuples ensure data integrity in Python?\n",
        "\n",
        "Ans: Tuples in Python ensure data integrity through their **immutability**, meaning their elements cannot be changed after creation. This prevents accidental modifications and ensures consistency. Tuples are also **hashable** (if they contain only immutable elements), making them suitable as keys in dictionaries and elements in sets. Their immutability protects data in multi-threaded environments and signals intentional use for fixed, unchangeable data. These properties make tuples ideal for storing constant, reliable collections of related data.\n",
        "\n",
        "Q8) What is a hash table, and how does it relate to dictionaries in Python?\n",
        "\n",
        "Ans: A hash table is a data structure that maps keys to values using a hash function to compute an index, enabling fast lookups, insertions, and deletions.\n",
        "\n",
        "In Python, dictionaries are implemented using hash tables. Each key in a dictionary is hashed to determine its storage location, allowing for efficient key-value pair operations which makes dictionaries ideal for scenarios requiring quick data retrieval.\n",
        "\n",
        "Q9) Can lists contain different data types in Python?\n",
        "\n",
        "Ans: Yes, Lists contain Heterogeneous data types means can store elements of different data types, such as integers, strings, and other lists.\n",
        "\n",
        "For Example :\n",
        "\n",
        "    my_list = [1, \"hello\", [2, 3]]\n",
        "    print(my_list)  # Output: [1, 'hello', [2, 3]]\n",
        "\n",
        "Q10) Explain why strings are immutable in Python.\n",
        "\n",
        "Ans: Strings are immutable for performance and security reasons. This allows strings to be :\n",
        "* safer to shared string data without worrying about changes.\n",
        "* to work as keys in dictionaries.\n",
        "\n",
        "Q11)What advantages do dictionaries offer over lists for certain tasks?\n",
        "\n",
        "Ans: Dictionaries provide faster access compared to lists because data is accessed using unique keys rather than positions. They are ideal for representing structured data\n",
        "\n",
        "Dictionaries are better than lists when requirements are:\n",
        "\n",
        "1. **Faster lookups**: Access data quickly using keys (O(1) time complexity).\n",
        "2. **Key-value associations**: Store data with a unique key for easy retrieval.\n",
        "3. **No duplicates**: Keys in dictionaries are unique, preventing accidental duplicates.\n",
        "4. **Easy updates**: update values directly using keys.\n",
        "\n",
        "Dictionaries are preferable when we need fast access, key-value associations, and unique keys.In contrast, lists are better for maintaining ordered collectionsof items without the need for key-based access.\n",
        "\n",
        "Q12) Describe a scenario where using a tuple would be preferable over a list.\n",
        "\n",
        "Ans: Tuples are preferred over lists when the data is fixed and must not change and need faster performance.\n",
        "\n",
        "**A real-life scenario where using a tuple is preferable over a list is when storing a person's birth date or UID No etc.**\n",
        "\n",
        "    FOR EXAMPLE - BIRTH DATE  \n",
        "    birth_date = (15, 6, 1995)  # Day, Month, Year\n",
        "\n",
        "\n",
        "Q13) How do sets handle duplicate values in Python?\n",
        "\n",
        "Ans: Sets automatically remove duplicate values. This is because sets are unordered collections that store only unique elements.\n",
        "\n",
        "So, Whenever we try to add a duplicate value to a set, it is ignored and only keeps one instance of each element, ensuring uniqueness.\n",
        "\n",
        "For example:\n",
        "\n",
        "    my_set = {1, 2, 2, 3}\n",
        "    print(my_set)  # Output: {1, 2, 3}\n",
        "\n",
        "\n",
        "Q14) How does the “in” keyword work differently for lists and dictionaries?\n",
        "\n",
        "Ans: \"in\" Keyword in Lists vs Dictionaries\n",
        "For lists, the in keyword checks for the existence of a value.\n",
        "    example- print(2 in [1, 2, 3])  # Output: True\n",
        "\n",
        "For dictionaries, it checks for the existence of a key.\n",
        "    example-print(\"name\" in {\"name\": \"Alice\"})  # Output: True\n",
        "\n",
        "Q15) Can you modify the elements of a tuple? Explain why or why not.\n",
        "\n",
        "Ans: No, elements of a tuple cannot be modified because tuples are immutable. Once a tuple is created, its elements cannot be changed, added, or removed. This immutability ensures that the data remains constant and prevents accidental modifications.\n",
        "\n",
        "For example:\n",
        "    my_tuple = (1, 2, 3)\n",
        "    # my_tuple[0] = 10  # This will raise an error\n",
        "\n",
        "Q16) What is a nested dictionary, and give an example of its use case?\n",
        "\n",
        "Ans:A nested dictionary is a dictionary within another dictionary, useful for representing hierarchical or multi-level data structures like a database.\n",
        "\n",
        "**Example Use Case:**\n",
        "used to store information about students and their subjects.\n",
        "\n",
        "    students = {\n",
        "    \"A\": {\"Math\": 85, \"Science\": 90},\n",
        "    \"B\": {\"Math\": 78, \"Science\": 82},\n",
        "    \"C\": {\"Math\": 92, \"Science\": 88}}\n",
        "    print(students[\"A\"][\"Math\"])  # Output: 85\n",
        "\n",
        "Q17)Describe the time complexity of accessing elements in a dictionary.\n",
        "\n",
        "Ans:Dictionaries provide constant time complexity, O(1), for data retrieval using keys, making them efficient for large datasets.\n",
        "\n",
        "Q18)In what situations are lists preferred over dictionarie?\n",
        "\n",
        "Ans: Lists are preferred over dictionaries in situations where:\n",
        "\n",
        "1. **Ordered Data**: When the order of elements matters, such as maintaining a sequence of items.\n",
        "2. **Index-based Access**: When it is needed to access elements by their position (index) rather than by a unique key.\n",
        "3. **Simple Collections**: When dealing with collections of homogeneous data where no key-value mapping is needed.\n",
        "4. **Efficient Iteration**: When iterating through a series of elements without needing to associate them with keys.\n",
        "\n",
        "Lists are ideal when order and indexed access are important, whereas dictionaries are better for key-based lookups and mapping data.\n",
        "\n",
        "Q19)Why are dictionaries considered unordered, and how does that affect data retrieval?\n",
        "\n",
        "Ans: Unordered means Elements are not stored in a specific order.\n",
        "\n",
        "A dictionary is termed an unordered collection of objects because dictionaries do not maintain any inherent order/keep track of the items based on when they were added.This meant data retrieval was based on the key only, not insertion order.\n",
        "\n",
        "How it affects data retrieval:\n",
        "\n",
        "Before Python 3.7:\n",
        "* No guarantee of the order in which key-value pairs are stored or retrieved.\n",
        "* Retrieval was based solely on the key, not the order of insertion.\n",
        "\n",
        "From Python 3.7 onwards:\n",
        "* Dictionaries maintain insertion order, allowing predictable iteration over items in the order they were added.\n",
        "* Key-based lookups remain unaffected, as they are independent of order.\n",
        "\n",
        "Q20)Explain the difference between a list and a dictionary in terms of data retrieval.\n",
        "\n",
        "Ans: The key difference between a list and a dictionary in terms of data retrieval is:\n",
        "\n",
        "**Lists** : retrieve elements using their index positions for searching specific values.\n",
        "\n",
        "**Dictionaries** : retrieve elements using keys, which is faster and more descriptive when keys are known.\n",
        "\n",
        "Dictionaries are better for key-based lookups, while lists are suited for sequential or indexed data.\n",
        "\n",
        "For example:\n",
        "\n",
        "    my_list = [10, 20]\n",
        "    my_dict = {\"a\": 10, \"b\": 20}\n",
        "\n",
        "    print(my_list[0])  # Access by position\n",
        "    print(my_dict[\"a\"])  # Access by key"
      ],
      "metadata": {
        "id": "tsJyJ13iDYj1"
      }
    },
    {
      "cell_type": "markdown",
      "source": [
        "# Practical Questions"
      ],
      "metadata": {
        "id": "56rC62CtMHtF"
      }
    },
    {
      "cell_type": "code",
      "source": [
        "# Q1) Write a code to create a string with your name and print it\n",
        "\n",
        "name = \"Ekta\"\n",
        "print(name)\n"
      ],
      "metadata": {
        "colab": {
          "base_uri": "https://localhost:8080/"
        },
        "id": "hBDy9ZS_MFTg",
        "outputId": "2a2f76c5-432e-4277-8c0b-2876b3749eda"
      },
      "execution_count": null,
      "outputs": [
        {
          "output_type": "stream",
          "name": "stdout",
          "text": [
            "Ekta\n"
          ]
        }
      ]
    },
    {
      "cell_type": "code",
      "source": [
        "# Q2) Write a code to find the length of the string \"Hello World\".\n",
        "\n",
        "my_string = \"Hello World\"\n",
        "print(\"Length of the String is : \" ,len(my_string)) # use of len()\n"
      ],
      "metadata": {
        "colab": {
          "base_uri": "https://localhost:8080/"
        },
        "id": "yB9CtBSmMoQg",
        "outputId": "618e21b0-5060-46ee-e3a2-c032f5988a61"
      },
      "execution_count": null,
      "outputs": [
        {
          "output_type": "stream",
          "name": "stdout",
          "text": [
            "Length of the String is :  11\n"
          ]
        }
      ]
    },
    {
      "cell_type": "code",
      "source": [
        "# Q3) Slice the first 3 characters from the string \"Python Programming\".\n",
        "\n",
        "my_string = \"Python Programming\"\n",
        "print(my_string[:3])"
      ],
      "metadata": {
        "colab": {
          "base_uri": "https://localhost:8080/"
        },
        "id": "17tK9xraM9th",
        "outputId": "d61fd245-32b7-459d-ca8f-3bd93f9f40b7"
      },
      "execution_count": null,
      "outputs": [
        {
          "output_type": "stream",
          "name": "stdout",
          "text": [
            "Pyt\n"
          ]
        }
      ]
    },
    {
      "cell_type": "code",
      "source": [
        "# Q4)  Write a code to convert the string \"hello\" to uppercase.\n",
        "\n",
        "my_string = \"hello\"\n",
        "print(\"Original String : \",my_string)\n",
        "print(\"Uppecase String : \",my_string.upper()) #use of upper()"
      ],
      "metadata": {
        "colab": {
          "base_uri": "https://localhost:8080/"
        },
        "id": "jRtewey7NOua",
        "outputId": "4aabeaeb-f649-4d5a-d4e7-489c8d285581"
      },
      "execution_count": null,
      "outputs": [
        {
          "output_type": "stream",
          "name": "stdout",
          "text": [
            "Original String :  hello\n",
            "Uppecase String :  HELLO\n"
          ]
        }
      ]
    },
    {
      "cell_type": "code",
      "source": [
        "# Q5) Write a code to replace the word \"apple\" with \"orange\" in the string \"I like apple\".\n",
        "\n",
        "my_string = \"I like apple\"\n",
        "print(my_string.replace(\"apple\", \"orange\")) #use replace()"
      ],
      "metadata": {
        "colab": {
          "base_uri": "https://localhost:8080/"
        },
        "id": "KpWdQk-oNwjK",
        "outputId": "376197f4-b0f6-4b95-cc6a-a8ef9f833c3d"
      },
      "execution_count": null,
      "outputs": [
        {
          "output_type": "stream",
          "name": "stdout",
          "text": [
            "I like orange\n"
          ]
        }
      ]
    },
    {
      "cell_type": "code",
      "source": [
        "# Q6) Create a list with numbers 1 to 5 and print it.\n",
        "\n",
        "my_list = [1, 2, 3, 4, 5]\n",
        "print(\"List with numbers 1 to 5:\")\n",
        "print(my_list)"
      ],
      "metadata": {
        "colab": {
          "base_uri": "https://localhost:8080/"
        },
        "id": "nRzNZMTpOCZt",
        "outputId": "14c2c965-f922-4ccf-abe7-164da26da485"
      },
      "execution_count": null,
      "outputs": [
        {
          "output_type": "stream",
          "name": "stdout",
          "text": [
            "List with numbers 1 to 5:\n",
            "[1, 2, 3, 4, 5]\n"
          ]
        }
      ]
    },
    {
      "cell_type": "code",
      "source": [
        "# Q7) Write a code to append the number 10 to the list [1, 2, 3, 4]\n",
        "\n",
        "my_list = [1, 2, 3, 4]\n",
        "print(f\"List before appending : {my_list}\")\n",
        "my_list.append(10)\n",
        "print(f\"List after appending : {my_list}\") # use append()"
      ],
      "metadata": {
        "colab": {
          "base_uri": "https://localhost:8080/"
        },
        "id": "eWkYbrmAOWi9",
        "outputId": "b4750fa9-9b70-482b-b46f-e6fe926012c5"
      },
      "execution_count": null,
      "outputs": [
        {
          "output_type": "stream",
          "name": "stdout",
          "text": [
            "List before appending : [1, 2, 3, 4]\n",
            "List after appending : [1, 2, 3, 4, 10]\n"
          ]
        }
      ]
    },
    {
      "cell_type": "code",
      "source": [
        "# Q8) Write a code to remove the number 3 from the list [1, 2, 3, 4, 5]\n",
        "\n",
        "my_list = [1, 2, 3, 4, 5]\n",
        "my_list.remove(3)\n",
        "print(f\"List after removing 3 : {my_list}\") #use remove()"
      ],
      "metadata": {
        "colab": {
          "base_uri": "https://localhost:8080/"
        },
        "id": "3jIFEnu7PIOi",
        "outputId": "601d619f-89a5-447d-b09b-72a4297fb29a"
      },
      "execution_count": null,
      "outputs": [
        {
          "output_type": "stream",
          "name": "stdout",
          "text": [
            "List after removing 3 : [1, 2, 4, 5]\n"
          ]
        }
      ]
    },
    {
      "cell_type": "code",
      "source": [
        "# Q9) Write a code to access the second element in the list ['a', 'b', 'c', 'd']\n",
        "my_list = ['a', 'b', 'c', 'd']\n",
        "print(\"The second element in the list is : \",my_list[1]) #index starts with 0"
      ],
      "metadata": {
        "colab": {
          "base_uri": "https://localhost:8080/"
        },
        "id": "UDBJA4niPjoj",
        "outputId": "7e16bfab-e64b-40e3-f8d4-7fa1a6c43a0b"
      },
      "execution_count": null,
      "outputs": [
        {
          "output_type": "stream",
          "name": "stdout",
          "text": [
            "The second element in the list is :  b\n"
          ]
        }
      ]
    },
    {
      "cell_type": "code",
      "source": [
        "# Q10) Write a code to reverse the list [10, 20, 30, 40, 50].\n",
        "\n",
        "my_list = [10, 20, 30, 40, 50]\n",
        "print(f\"Oringial List : {my_list}\")\n",
        "my_list.reverse()\n",
        "print(f\"Reversed List : {my_list}\") #use reverse()"
      ],
      "metadata": {
        "colab": {
          "base_uri": "https://localhost:8080/"
        },
        "id": "xXsxqcFFPqhv",
        "outputId": "774ab05c-73b5-4449-b94b-20d6693e898b"
      },
      "execution_count": null,
      "outputs": [
        {
          "output_type": "stream",
          "name": "stdout",
          "text": [
            "Oringial List : [10, 20, 30, 40, 50]\n",
            "Reversed List : [50, 40, 30, 20, 10]\n"
          ]
        }
      ]
    },
    {
      "cell_type": "code",
      "source": [
        "# 11. Write a code to create a tuple with the elements 100, 200, 300 and print it\n",
        "my_tuple = (100, 200, 300)\n",
        "print(\"Tuple is :\", my_tuple)"
      ],
      "metadata": {
        "colab": {
          "base_uri": "https://localhost:8080/"
        },
        "id": "RqPEJQ_9QjmK",
        "outputId": "0e9ef7c4-20c1-4ea3-ee21-4ffe596eaf51"
      },
      "execution_count": null,
      "outputs": [
        {
          "output_type": "stream",
          "name": "stdout",
          "text": [
            "Tuple is : (100, 200, 300)\n"
          ]
        }
      ]
    },
    {
      "cell_type": "code",
      "source": [
        "#12.  Write a code to access the second-to-last element of the tuple ('red', 'green', 'blue', 'yellow').\n",
        "colors = ('red', 'green', 'blue', 'yellow')\n",
        "print(colors[-2])  # Output: blue"
      ],
      "metadata": {
        "id": "0Bt9UpGGfAld",
        "colab": {
          "base_uri": "https://localhost:8080/"
        },
        "outputId": "1799978d-8c17-44ce-ca3e-765cb081cbd7"
      },
      "execution_count": null,
      "outputs": [
        {
          "output_type": "stream",
          "name": "stdout",
          "text": [
            "blue\n"
          ]
        }
      ]
    },
    {
      "cell_type": "code",
      "source": [
        "# 13. Write a code to find the minimum number in the tuple (10, 20, 5, 15)\n",
        "numbers = (10, 20, 5, 15)\n",
        "print(min(numbers))  # Output: 5"
      ],
      "metadata": {
        "id": "NdGaXKvffA1I",
        "colab": {
          "base_uri": "https://localhost:8080/"
        },
        "outputId": "9029b3a2-f160-4e1f-acec-f8e47a515c22"
      },
      "execution_count": null,
      "outputs": [
        {
          "output_type": "stream",
          "name": "stdout",
          "text": [
            "5\n"
          ]
        }
      ]
    },
    {
      "cell_type": "code",
      "source": [
        "#14. Write a code to find the index of the element \"cat\" in the tuple ('dog', 'cat', 'rabbit')\n",
        "my_tuple = ('dog', 'cat', 'rabbit')\n",
        "element = 'cat'\n",
        "print( f\"The index of the element {element} in {my_tuple} is\", my_tuple.index(element)) # use index()"
      ],
      "metadata": {
        "colab": {
          "base_uri": "https://localhost:8080/"
        },
        "id": "r5tQLLiVSSO5",
        "outputId": "2b2084f7-c6b3-4327-9b58-4995bf3de5ac"
      },
      "execution_count": null,
      "outputs": [
        {
          "output_type": "stream",
          "name": "stdout",
          "text": [
            "The index of the element cat in ('dog', 'cat', 'rabbit') is 1\n"
          ]
        }
      ]
    },
    {
      "cell_type": "code",
      "source": [
        "# 15. Write a code to create a tuple containing three different fruits and check if \"kiwi\" is in it.\n",
        "fruits = ('apple', 'banana', 'cherry')\n",
        "print('kiwi' in fruits)  # Output: False"
      ],
      "metadata": {
        "colab": {
          "base_uri": "https://localhost:8080/"
        },
        "id": "54mh0omgWYkW",
        "outputId": "c6b16ce7-282b-4cc3-d4d2-b77153901025"
      },
      "execution_count": null,
      "outputs": [
        {
          "output_type": "stream",
          "name": "stdout",
          "text": [
            "False\n"
          ]
        }
      ]
    },
    {
      "cell_type": "code",
      "source": [
        "# 16. Write a code to create a set with the elements 'a', 'b', 'c' and print it.\n",
        "my_set = {'a', 'b', 'c'}\n",
        "print(my_set)"
      ],
      "metadata": {
        "colab": {
          "base_uri": "https://localhost:8080/"
        },
        "id": "X4YZN37mX-yF",
        "outputId": "296d1fb7-fb40-4c6e-8cbf-52e2b8109ec2"
      },
      "execution_count": 2,
      "outputs": [
        {
          "output_type": "stream",
          "name": "stdout",
          "text": [
            "{'a', 'b', 'c'}\n"
          ]
        }
      ]
    },
    {
      "cell_type": "code",
      "source": [
        "#17. Write a code to clear all elements from the set {1, 2, 3, 4, 5}.\n",
        "s = {1, 2, 3, 4, 5}\n",
        "s.clear()\n",
        "print(s)"
      ],
      "metadata": {
        "colab": {
          "base_uri": "https://localhost:8080/"
        },
        "id": "D1M9UoU1X_Ca",
        "outputId": "2c973e1d-12c0-412d-dc5c-a5abf47bcdb1"
      },
      "execution_count": null,
      "outputs": [
        {
          "output_type": "stream",
          "name": "stdout",
          "text": [
            "set()\n"
          ]
        }
      ]
    },
    {
      "cell_type": "code",
      "source": [
        "# 18. Write a code to remove the element 4 from the set {1, 2, 3, 4},\n",
        "my_set = {1, 2, 3, 4}\n",
        "print(\"Original set :\",my_set)\n",
        "\n",
        "# remove the element 6 to the set\n",
        "my_set.remove(4)\n",
        "print(\"Updated set after adding :\",my_set)"
      ],
      "metadata": {
        "id": "mQqhRgx4X_FX",
        "colab": {
          "base_uri": "https://localhost:8080/"
        },
        "outputId": "6a4031f0-3172-4d29-aa18-7f4879a8375c"
      },
      "execution_count": null,
      "outputs": [
        {
          "output_type": "stream",
          "name": "stdout",
          "text": [
            "Original set : {1, 2, 3, 4}\n",
            "Updated set after adding : {1, 2, 3}\n"
          ]
        }
      ]
    },
    {
      "cell_type": "code",
      "source": [
        "# 19. Write a code to find the union of two sets {1, 2, 3} and {3, 4, 5}.\n",
        "\n",
        "set1 = {1, 2, 3}\n",
        "set2 = {3, 4, 5}\n",
        "print(\"Union of sets :\",set1.union(set2))"
      ],
      "metadata": {
        "colab": {
          "base_uri": "https://localhost:8080/"
        },
        "id": "hrarq0Q9YFp6",
        "outputId": "0dd6b374-9204-4e93-b30c-c63a8e7b26ce"
      },
      "execution_count": null,
      "outputs": [
        {
          "output_type": "stream",
          "name": "stdout",
          "text": [
            "Union of sets : {1, 2, 3, 4, 5}\n"
          ]
        }
      ]
    },
    {
      "cell_type": "code",
      "source": [
        "#20.  Write a code to find the intersection of two sets {1, 2, 3} and {2, 3, 4}.\n",
        "\n",
        "set1 = {1, 2, 3}\n",
        "set2 = {2, 3, 4}\n",
        "print(\"Intersection of sets :\",set1.intersection(set2))"
      ],
      "metadata": {
        "colab": {
          "base_uri": "https://localhost:8080/"
        },
        "id": "KnSch6mHYF0I",
        "outputId": "a943966f-cc3b-47ae-c300-3b608ae751f9"
      },
      "execution_count": null,
      "outputs": [
        {
          "output_type": "stream",
          "name": "stdout",
          "text": [
            "Intersection of sets : {2, 3}\n"
          ]
        }
      ]
    },
    {
      "cell_type": "code",
      "source": [
        "# 21. Write a code to create a dictionary with the keys \"name\", \"age\", and \"city\", and print it.\n",
        "my_dict = {\"name\": \"Ekta\", \"age\": 25, \"city\": \"New Delhi\"}\n",
        "print(my_dict)"
      ],
      "metadata": {
        "colab": {
          "base_uri": "https://localhost:8080/"
        },
        "id": "LI0H5TzLYF3w",
        "outputId": "31e6d6af-cd07-458b-e9cc-17836a39400e"
      },
      "execution_count": null,
      "outputs": [
        {
          "output_type": "stream",
          "name": "stdout",
          "text": [
            "{'name': 'Ekta', 'age': 25, 'city': 'New Delhi'}\n"
          ]
        }
      ]
    },
    {
      "cell_type": "code",
      "source": [
        "# 22. Write a code to add a new key-value pair \"country\": \"USA\" to the dictionary {'name': 'John', 'age': 25}.\n",
        "\n",
        "my_dict = {'name': 'John', 'age': 25}\n",
        "print(\"Original Dictionary :\",my_dict)\n",
        "# Add a new key-value pair\n",
        "my_dict['country'] = 'USA'\n",
        "print(my_dict)"
      ],
      "metadata": {
        "colab": {
          "base_uri": "https://localhost:8080/"
        },
        "id": "Tcl0fjBFYF7I",
        "outputId": "80bbdf7a-afba-4c84-8bd0-3bec3e889313"
      },
      "execution_count": null,
      "outputs": [
        {
          "output_type": "stream",
          "name": "stdout",
          "text": [
            "Original Dictionary : {'name': 'John', 'age': 25}\n",
            "{'name': 'John', 'age': 25, 'country': 'USA'}\n"
          ]
        }
      ]
    },
    {
      "cell_type": "code",
      "source": [
        "# 23. Write a code to access the value associated with the key \"name\" in the dictionary {'name': 'Alice', 'age': 30}.\n",
        "my_dict = {'name': 'Alice', 'age': 30}\n",
        "print(my_dict['name'])"
      ],
      "metadata": {
        "colab": {
          "base_uri": "https://localhost:8080/"
        },
        "id": "aAnhZlHbZ6RU",
        "outputId": "aad8c4b4-b0d8-44d9-b48d-53e7296af08f"
      },
      "execution_count": null,
      "outputs": [
        {
          "output_type": "stream",
          "name": "stdout",
          "text": [
            "Alice\n"
          ]
        }
      ]
    },
    {
      "cell_type": "code",
      "source": [
        " #24. Write a code to remove the key \"age\" from the dictionary {'name': 'Bob', 'age': 22, 'city': 'New York'}.\n",
        "\n",
        "my_dict = {'name': 'Bob', 'age': 22, 'city': 'New York'}\n",
        "print(\"Original Dictionary :\",my_dict)\n",
        "# Remove the key \"age\"\n",
        "del my_dict['age']\n",
        "print(my_dict)"
      ],
      "metadata": {
        "colab": {
          "base_uri": "https://localhost:8080/"
        },
        "id": "avplHqtWZ6Zc",
        "outputId": "b5918b3c-fc4f-4f8d-fb95-b3d5e06c7eda"
      },
      "execution_count": null,
      "outputs": [
        {
          "output_type": "stream",
          "name": "stdout",
          "text": [
            "Original Dictionary : {'name': 'Bob', 'age': 22, 'city': 'New York'}\n",
            "{'name': 'Bob', 'city': 'New York'}\n"
          ]
        }
      ]
    },
    {
      "cell_type": "code",
      "source": [
        "#25. Write a code to check if the key \"city\" exists in the dictionary {'name': 'Alice', 'city': 'Paris'}.\n",
        "my_dict = {'name': 'Alice', 'city': 'Paris'}\n",
        "print('city' in my_dict)  # in operator"
      ],
      "metadata": {
        "colab": {
          "base_uri": "https://localhost:8080/"
        },
        "id": "3RiX0FAsZ6c2",
        "outputId": "0a5e9b49-f9a2-4aad-eb3d-e1f0cf55741d"
      },
      "execution_count": null,
      "outputs": [
        {
          "output_type": "stream",
          "name": "stdout",
          "text": [
            "True\n"
          ]
        }
      ]
    },
    {
      "cell_type": "code",
      "source": [
        "#26. Write a code to create a list, a tuple, and a dictionary, and print them all.\n",
        "my_list = [1, 2, 3]\n",
        "my_tuple = (4, 5, 6)\n",
        "my_dict = {'a': 1, 'b': 2}\n",
        "print(\"List is:\",my_list)\n",
        "print(\"Tuple is:\",my_tuple)\n",
        "print(\"Dictionary is:\", my_dict)"
      ],
      "metadata": {
        "colab": {
          "base_uri": "https://localhost:8080/"
        },
        "id": "8ppQ4HGQbELU",
        "outputId": "0e7c052e-d05b-4f67-e395-80e48bd24ec2"
      },
      "execution_count": null,
      "outputs": [
        {
          "output_type": "stream",
          "name": "stdout",
          "text": [
            "List is: [1, 2, 3]\n",
            "Tuple is: (4, 5, 6)\n",
            "Dictionary is: {'a': 1, 'b': 2}\n"
          ]
        }
      ]
    },
    {
      "cell_type": "code",
      "source": [
        "#27. Write a code to create a list of 5 random numbers between 1 and 100, sort it in ascending order, and print the result.\n",
        "import random\n",
        "rand_list = random.sample(range(1, 101), 5)\n",
        "rand_list.sort()\n",
        "print(\"Sorted Random List :\",rand_list)"
      ],
      "metadata": {
        "colab": {
          "base_uri": "https://localhost:8080/"
        },
        "id": "SGhlS308bENt",
        "outputId": "797e4042-f267-4fe8-e4e1-d982c7424ff6"
      },
      "execution_count": null,
      "outputs": [
        {
          "output_type": "stream",
          "name": "stdout",
          "text": [
            "Sorted Random List : [21, 30, 74, 77, 97]\n"
          ]
        }
      ]
    },
    {
      "cell_type": "code",
      "source": [
        "#28. Write a code to create a list with strings and print the element at the third index.\n",
        "\n",
        "my_list = [\"apple\", \"banana\", \"cherry\", \"date\", \"mango\"]\n",
        "print(my_list[3])"
      ],
      "metadata": {
        "colab": {
          "base_uri": "https://localhost:8080/"
        },
        "id": "ZaAcy9s0bERK",
        "outputId": "9dbf242a-10f5-47d3-d04c-798cf8f225ff"
      },
      "execution_count": 1,
      "outputs": [
        {
          "output_type": "stream",
          "name": "stdout",
          "text": [
            "date\n"
          ]
        }
      ]
    },
    {
      "cell_type": "code",
      "source": [
        "# 29. Write a code to combine two dictionaries into one and print the result.\n",
        "my_dict1 = {'a': 1, 'b': 2}\n",
        "my_dict2 = {'c': 3, 'd': 4}\n",
        "combined_dict = {**my_dict1, **my_dict2}\n",
        "print(combined_dict)"
      ],
      "metadata": {
        "colab": {
          "base_uri": "https://localhost:8080/"
        },
        "id": "vSz2UHWqdOGq",
        "outputId": "4b03a5e9-3387-481c-eb55-000738702751"
      },
      "execution_count": null,
      "outputs": [
        {
          "output_type": "stream",
          "name": "stdout",
          "text": [
            "{'a': 1, 'b': 2, 'c': 3, 'd': 4}\n"
          ]
        }
      ]
    },
    {
      "cell_type": "code",
      "source": [
        "#30 Write a code to convert a list of strings into a set.\n",
        "my_list = ['apple', 'banana', 'cherry', 'mango']\n",
        "my_set = set(my_list) #set() convert other datatype to sets\n",
        "print(my_set)"
      ],
      "metadata": {
        "colab": {
          "base_uri": "https://localhost:8080/"
        },
        "id": "gJvrtKDkdPAX",
        "outputId": "58a7fd09-dceb-48ba-8b70-8d310e3fab17"
      },
      "execution_count": null,
      "outputs": [
        {
          "output_type": "stream",
          "name": "stdout",
          "text": [
            "{'apple', 'banana', 'mango', 'cherry'}\n"
          ]
        }
      ]
    }
  ]
}